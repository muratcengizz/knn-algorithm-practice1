{
 "cells": [
  {
   "cell_type": "code",
   "execution_count": 10,
   "id": "8af7ea44-04ba-4c86-8083-9a0d2b0fc88b",
   "metadata": {},
   "outputs": [],
   "source": [
    "import pandas as pd\n",
    "import numpy as np\n",
    "import seaborn as sns\n",
    "from sklearn.model_selection import train_test_split\n",
    "from sklearn.neighbors import KNeighborsClassifier\n",
    "from sklearn.metrics import accuracy_score, r2_score\n",
    "from sklearn.model_selection import GridSearchCV\n",
    "from sklearn.preprocessing import LabelEncoder, StandardScaler"
   ]
  },
  {
   "cell_type": "code",
   "execution_count": 11,
   "id": "5d0875aa-f7bc-44ad-adda-0c4a80469629",
   "metadata": {},
   "outputs": [
    {
     "data": {
      "text/html": [
       "<div>\n",
       "<style scoped>\n",
       "    .dataframe tbody tr th:only-of-type {\n",
       "        vertical-align: middle;\n",
       "    }\n",
       "\n",
       "    .dataframe tbody tr th {\n",
       "        vertical-align: top;\n",
       "    }\n",
       "\n",
       "    .dataframe thead th {\n",
       "        text-align: right;\n",
       "    }\n",
       "</style>\n",
       "<table border=\"1\" class=\"dataframe\">\n",
       "  <thead>\n",
       "    <tr style=\"text-align: right;\">\n",
       "      <th></th>\n",
       "      <th>Food</th>\n",
       "      <th>Ingredient1</th>\n",
       "      <th>Ingredient2</th>\n",
       "      <th>Ingredient3</th>\n",
       "      <th>Calories</th>\n",
       "      <th>Price</th>\n",
       "      <th>Order</th>\n",
       "    </tr>\n",
       "  </thead>\n",
       "  <tbody>\n",
       "    <tr>\n",
       "      <th>0</th>\n",
       "      <td>Coffee</td>\n",
       "      <td>Potato</td>\n",
       "      <td>Potato</td>\n",
       "      <td>Sugar</td>\n",
       "      <td>635</td>\n",
       "      <td>12</td>\n",
       "      <td>0</td>\n",
       "    </tr>\n",
       "    <tr>\n",
       "      <th>1</th>\n",
       "      <td>Spaghetti</td>\n",
       "      <td>Bun</td>\n",
       "      <td>Tomato sauce</td>\n",
       "      <td>Beef</td>\n",
       "      <td>976</td>\n",
       "      <td>18</td>\n",
       "      <td>0</td>\n",
       "    </tr>\n",
       "    <tr>\n",
       "      <th>2</th>\n",
       "      <td>Cola</td>\n",
       "      <td>Mozzarella</td>\n",
       "      <td>Mozzarella</td>\n",
       "      <td>Pasta</td>\n",
       "      <td>246</td>\n",
       "      <td>2</td>\n",
       "      <td>1</td>\n",
       "    </tr>\n",
       "    <tr>\n",
       "      <th>3</th>\n",
       "      <td>Tea</td>\n",
       "      <td>Mozzarella</td>\n",
       "      <td>Chicken</td>\n",
       "      <td>Beef</td>\n",
       "      <td>245</td>\n",
       "      <td>5</td>\n",
       "      <td>0</td>\n",
       "    </tr>\n",
       "    <tr>\n",
       "      <th>4</th>\n",
       "      <td>Cola</td>\n",
       "      <td>Bun</td>\n",
       "      <td>Lettuce</td>\n",
       "      <td>Potato</td>\n",
       "      <td>519</td>\n",
       "      <td>5</td>\n",
       "      <td>1</td>\n",
       "    </tr>\n",
       "  </tbody>\n",
       "</table>\n",
       "</div>"
      ],
      "text/plain": [
       "        Food Ingredient1   Ingredient2 Ingredient3  Calories  Price  Order\n",
       "0     Coffee      Potato        Potato       Sugar       635     12      0\n",
       "1  Spaghetti         Bun  Tomato sauce        Beef       976     18      0\n",
       "2       Cola  Mozzarella    Mozzarella       Pasta       246      2      1\n",
       "3        Tea  Mozzarella       Chicken        Beef       245      5      0\n",
       "4       Cola         Bun       Lettuce      Potato       519      5      1"
      ]
     },
     "execution_count": 11,
     "metadata": {},
     "output_type": "execute_result"
    }
   ],
   "source": [
    "# Yemekler ve içeceklerin isimleri\n",
    "foods = ['Spaghetti', 'Pizza', 'Burger', 'Steak', 'Salad', 'Soup', 'Coffee', 'Tea', 'Cola', 'Lemonade']\n",
    "\n",
    "# Malzemeler\n",
    "ingredients = ['Pasta', 'Tomato sauce', 'Mozzarella', 'Beef', 'Bun', 'Lettuce', 'Tomato', 'Carrot', 'Potato', 'Chicken', 'Cream', 'Sugar', 'Water', 'Ice', 'Lemon']\n",
    "\n",
    "# Yemeklerin kalorileri\n",
    "calories = [500, 600, 700, 800, 200, 300, 50, 30, 100, 150]\n",
    "\n",
    "# Yemeklerin Fiyatları\n",
    "prices = [10, 12, 8, 18, 7, 5, 3, 2, 1, 2]\n",
    "\n",
    "data = pd.DataFrame(columns=['Food', 'Ingredient1', 'Ingredient2', 'Ingredient3', 'Calories', 'Price', 'Order'])\n",
    "\n",
    "for i in range(1000):\n",
    "    food = np.random.choice(foods)\n",
    "    ingredient1 = np.random.choice(ingredients)\n",
    "    ingredient2 = np.random.choice(ingredients)\n",
    "    ingredient3 = np.random.choice(ingredients)\n",
    "    calories = np.random.randint(100, 1000)\n",
    "    price = np.random.choice(prices)\n",
    "    order = np.random.choice([0, 1])\n",
    "    data1 = {\n",
    "        'Food': food,\n",
    "        'Ingredient1': ingredient1,\n",
    "        'Ingredient2': ingredient2,\n",
    "        'Ingredient3': ingredient3,\n",
    "        'Calories': calories,\n",
    "        'Price': price,\n",
    "        'Order': order\n",
    "    }\n",
    "    data.loc[len(data)] = data1\n",
    "data.head()\n"
   ]
  },
  {
   "cell_type": "markdown",
   "id": "a8b0edea-4a0f-4545-9850-08b0b6def6fe",
   "metadata": {},
   "source": [
    "#### Food: Müşterilerin seçebileceği yemek türleri\n",
    "#### Ingredient1, Ingredient2, Ingredient3: Yemeklerin içinde bulunan malzemeler\n",
    "#### Calories: Yemeklerin kalori değeri\n",
    "#### Price: Yemeklerin fiyatı\n",
    "#### Order: Müşterilerin sipariş verip vermediği bilgisi (0 veya 1)"
   ]
  },
  {
   "cell_type": "markdown",
   "id": "b95fd336-24fe-4600-89f6-a3c7c359e0df",
   "metadata": {},
   "source": [
    "# Model İşlemleri"
   ]
  },
  {
   "cell_type": "code",
   "execution_count": 12,
   "id": "309c4cc3-eec6-4820-8a8e-93741e3a70e2",
   "metadata": {},
   "outputs": [],
   "source": [
    "# kategorik değişkenleri numerik değişkenlere dönüştürelim.\n",
    "lbe = LabelEncoder()\n",
    "data['Food'] = lbe.fit_transform(data['Food'])\n",
    "data['Ingredient1'] = lbe.fit_transform(data['Ingredient1'])\n",
    "data['Ingredient2'] = lbe.fit_transform(data['Ingredient2'])\n",
    "data['Ingredient3'] = lbe.fit_transform(data['Ingredient3'])"
   ]
  },
  {
   "cell_type": "code",
   "execution_count": 13,
   "id": "bef47146-3d33-457b-bd1a-5f6af407d7c8",
   "metadata": {},
   "outputs": [],
   "source": [
    "# bağımlı ve bağımsız değişkenlerimizi oluşturalım.\n",
    "X = data.drop('Order', axis=1)\n",
    "y = data['Order']"
   ]
  },
  {
   "cell_type": "code",
   "execution_count": 14,
   "id": "2adbada5-bb52-40c9-a8ad-94371d35304a",
   "metadata": {},
   "outputs": [],
   "source": [
    "# eğitim ve test setlerini ayıralım.\n",
    "X_train, X_test, y_train, y_test = train_test_split(X, y, test_size=0.3, random_state=42)"
   ]
  },
  {
   "cell_type": "markdown",
   "id": "f4bf3b90-06fb-49c6-806b-cacc33568e38",
   "metadata": {},
   "source": [
    "### KNN algoritması kullanarak bir model kurmak için, öncelikle en iyi hiperparametreleri bulmamız gerekiyor."
   ]
  },
  {
   "cell_type": "code",
   "execution_count": 15,
   "id": "06f416a0-244d-4dbf-a8ca-752a5f4320f6",
   "metadata": {},
   "outputs": [
    {
     "name": "stdout",
     "output_type": "stream",
     "text": [
      "Best Params:  {'algorithm': 'ball_tree', 'leaf_size': 40, 'metric': 'chebyshev', 'n_neighbors': 5, 'weights': 'distance'}\n",
      "Best Score:  0.5428571428571429\n"
     ]
    }
   ],
   "source": [
    "knn = KNeighborsClassifier()\n",
    "params = {\n",
    "    'n_neighbors':[3, 5, 7, 9, 11],\n",
    "    'weights': ['uniform', 'distance'],\n",
    "    'algorithm': ['ball_tree', 'kd_tree', 'brute'],\n",
    "    'metric': ['euclidean', 'manhattan', 'chebyshev'],\n",
    "    'leaf_size': [10, 20, 30, 40, 50]\n",
    "}\n",
    "grid_search = GridSearchCV(estimator=knn, param_grid=params, cv=5)\n",
    "grid_search.fit(X_train, y_train)\n",
    "\n",
    "print('Best Params: ', grid_search.best_params_)\n",
    "print('Best Score: ', grid_search.best_score_)"
   ]
  },
  {
   "cell_type": "markdown",
   "id": "4b66f926-9ca2-40bd-8f10-2cd1988fa7c6",
   "metadata": {},
   "source": [
    "### En iyi parametreler ile bir KNN modeli oluşturalım ve test seti üzerinde doğruluk puanını hesaplayalım."
   ]
  },
  {
   "cell_type": "code",
   "execution_count": 16,
   "id": "973cd4f9-1c54-4dbf-bba4-4df67366a91d",
   "metadata": {},
   "outputs": [
    {
     "name": "stdout",
     "output_type": "stream",
     "text": [
      "Doğruluk Puanı:  0.5066666666666667\n",
      "R-Kare Değeri:  -0.9932659932659933\n"
     ]
    }
   ],
   "source": [
    "knn = KNeighborsClassifier(n_neighbors=5, weights='uniform', algorithm='ball_tree', leaf_size=10, metric='manhattan')\n",
    "knn.fit(X_train, y_train)\n",
    "y_pred = knn.predict(X_test)\n",
    "accuracy = accuracy_score(y_test, y_pred)\n",
    "r2 = r2_score(y_test, y_pred)\n",
    "print('Doğruluk Puanı: ', accuracy)\n",
    "print('R-Kare Değeri: ', r2)"
   ]
  },
  {
   "cell_type": "markdown",
   "id": "76e2783d-5424-4637-8503-227b11b557f3",
   "metadata": {},
   "source": [
    "# Sonuç"
   ]
  },
  {
   "cell_type": "markdown",
   "id": "68d93878-10ee-4213-9285-100bfc0db594",
   "metadata": {},
   "source": [
    "### Veri setini kendimiz oluşturduğumuz için gerçek hayat senaryosu değildir. Tamamen knn algoritmasını, mantığını ve kullanımını öğrenmek ve pekiştirmek için yapılmıştır. Bu yüzden tahmin işlemi yapmayacağız. R-kare değeri ve doğruluk değeri de tahmin yapılamayacak kadar kötü bir sonuç :)"
   ]
  }
 ],
 "metadata": {
  "kernelspec": {
   "display_name": "Python 3 (ipykernel)",
   "language": "python",
   "name": "python3"
  },
  "language_info": {
   "codemirror_mode": {
    "name": "ipython",
    "version": 3
   },
   "file_extension": ".py",
   "mimetype": "text/x-python",
   "name": "python",
   "nbconvert_exporter": "python",
   "pygments_lexer": "ipython3",
   "version": "3.9.12"
  }
 },
 "nbformat": 4,
 "nbformat_minor": 5
}
